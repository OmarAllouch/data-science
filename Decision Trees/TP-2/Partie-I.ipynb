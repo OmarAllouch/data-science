{
 "cells": [
  {
   "cell_type": "code",
   "execution_count": 25,
   "metadata": {},
   "outputs": [],
   "source": [
    "import numpy as np\n",
    "import pandas as pd\n",
    "import statistics\n",
    "\n",
    "from sklearn.preprocessing import LabelEncoder\n",
    "from sklearn.tree import DecisionTreeClassifier\n",
    "from sklearn.model_selection import GridSearchCV\n",
    "from sklearn.metrics import confusion_matrix, accuracy_score, classification_report"
   ]
  },
  {
   "cell_type": "markdown",
   "metadata": {},
   "source": [
    "### Importing the datasets"
   ]
  },
  {
   "cell_type": "code",
   "execution_count": 26,
   "metadata": {},
   "outputs": [],
   "source": [
    "train = pd.read_csv('exemple_code.csv', sep=';')\n",
    "X_test = pd.read_csv('mot_code.csv', sep=';')"
   ]
  },
  {
   "cell_type": "markdown",
   "metadata": {},
   "source": [
    "### Data preprocessing"
   ]
  },
  {
   "cell_type": "markdown",
   "metadata": {},
   "source": [
    "Remove the last column of X_test since it is empty"
   ]
  },
  {
   "cell_type": "code",
   "execution_count": 27,
   "metadata": {},
   "outputs": [],
   "source": [
    "X_test = X_test.iloc[:, :-1]"
   ]
  },
  {
   "cell_type": "markdown",
   "metadata": {},
   "source": [
    "Separate the data into X and y"
   ]
  },
  {
   "cell_type": "code",
   "execution_count": 28,
   "metadata": {},
   "outputs": [],
   "source": [
    "X_train = train.drop(columns=['y'], axis=1)\n",
    "y_train = train['y']"
   ]
  },
  {
   "cell_type": "markdown",
   "metadata": {},
   "source": [
    "Encoding categorical data"
   ]
  },
  {
   "cell_type": "code",
   "execution_count": 29,
   "metadata": {},
   "outputs": [],
   "source": [
    "labelencoder = LabelEncoder()\n",
    "y_train = labelencoder.fit_transform(y_train)"
   ]
  },
  {
   "cell_type": "markdown",
   "metadata": {},
   "source": [
    "Fit the model"
   ]
  },
  {
   "cell_type": "code",
   "execution_count": 30,
   "metadata": {},
   "outputs": [
    {
     "data": {
      "text/html": [
       "<style>#sk-container-id-2 {color: black;}#sk-container-id-2 pre{padding: 0;}#sk-container-id-2 div.sk-toggleable {background-color: white;}#sk-container-id-2 label.sk-toggleable__label {cursor: pointer;display: block;width: 100%;margin-bottom: 0;padding: 0.3em;box-sizing: border-box;text-align: center;}#sk-container-id-2 label.sk-toggleable__label-arrow:before {content: \"▸\";float: left;margin-right: 0.25em;color: #696969;}#sk-container-id-2 label.sk-toggleable__label-arrow:hover:before {color: black;}#sk-container-id-2 div.sk-estimator:hover label.sk-toggleable__label-arrow:before {color: black;}#sk-container-id-2 div.sk-toggleable__content {max-height: 0;max-width: 0;overflow: hidden;text-align: left;background-color: #f0f8ff;}#sk-container-id-2 div.sk-toggleable__content pre {margin: 0.2em;color: black;border-radius: 0.25em;background-color: #f0f8ff;}#sk-container-id-2 input.sk-toggleable__control:checked~div.sk-toggleable__content {max-height: 200px;max-width: 100%;overflow: auto;}#sk-container-id-2 input.sk-toggleable__control:checked~label.sk-toggleable__label-arrow:before {content: \"▾\";}#sk-container-id-2 div.sk-estimator input.sk-toggleable__control:checked~label.sk-toggleable__label {background-color: #d4ebff;}#sk-container-id-2 div.sk-label input.sk-toggleable__control:checked~label.sk-toggleable__label {background-color: #d4ebff;}#sk-container-id-2 input.sk-hidden--visually {border: 0;clip: rect(1px 1px 1px 1px);clip: rect(1px, 1px, 1px, 1px);height: 1px;margin: -1px;overflow: hidden;padding: 0;position: absolute;width: 1px;}#sk-container-id-2 div.sk-estimator {font-family: monospace;background-color: #f0f8ff;border: 1px dotted black;border-radius: 0.25em;box-sizing: border-box;margin-bottom: 0.5em;}#sk-container-id-2 div.sk-estimator:hover {background-color: #d4ebff;}#sk-container-id-2 div.sk-parallel-item::after {content: \"\";width: 100%;border-bottom: 1px solid gray;flex-grow: 1;}#sk-container-id-2 div.sk-label:hover label.sk-toggleable__label {background-color: #d4ebff;}#sk-container-id-2 div.sk-serial::before {content: \"\";position: absolute;border-left: 1px solid gray;box-sizing: border-box;top: 0;bottom: 0;left: 50%;z-index: 0;}#sk-container-id-2 div.sk-serial {display: flex;flex-direction: column;align-items: center;background-color: white;padding-right: 0.2em;padding-left: 0.2em;position: relative;}#sk-container-id-2 div.sk-item {position: relative;z-index: 1;}#sk-container-id-2 div.sk-parallel {display: flex;align-items: stretch;justify-content: center;background-color: white;position: relative;}#sk-container-id-2 div.sk-item::before, #sk-container-id-2 div.sk-parallel-item::before {content: \"\";position: absolute;border-left: 1px solid gray;box-sizing: border-box;top: 0;bottom: 0;left: 50%;z-index: -1;}#sk-container-id-2 div.sk-parallel-item {display: flex;flex-direction: column;z-index: 1;position: relative;background-color: white;}#sk-container-id-2 div.sk-parallel-item:first-child::after {align-self: flex-end;width: 50%;}#sk-container-id-2 div.sk-parallel-item:last-child::after {align-self: flex-start;width: 50%;}#sk-container-id-2 div.sk-parallel-item:only-child::after {width: 0;}#sk-container-id-2 div.sk-dashed-wrapped {border: 1px dashed gray;margin: 0 0.4em 0.5em 0.4em;box-sizing: border-box;padding-bottom: 0.4em;background-color: white;}#sk-container-id-2 div.sk-label label {font-family: monospace;font-weight: bold;display: inline-block;line-height: 1.2em;}#sk-container-id-2 div.sk-label-container {text-align: center;}#sk-container-id-2 div.sk-container {/* jupyter's `normalize.less` sets `[hidden] { display: none; }` but bootstrap.min.css set `[hidden] { display: none !important; }` so we also need the `!important` here to be able to override the default hidden behavior on the sphinx rendered scikit-learn.org. See: https://github.com/scikit-learn/scikit-learn/issues/21755 */display: inline-block !important;position: relative;}#sk-container-id-2 div.sk-text-repr-fallback {display: none;}</style><div id=\"sk-container-id-2\" class=\"sk-top-container\"><div class=\"sk-text-repr-fallback\"><pre>DecisionTreeClassifier(criterion=&#x27;entropy&#x27;, random_state=0)</pre><b>In a Jupyter environment, please rerun this cell to show the HTML representation or trust the notebook. <br />On GitHub, the HTML representation is unable to render, please try loading this page with nbviewer.org.</b></div><div class=\"sk-container\" hidden><div class=\"sk-item\"><div class=\"sk-estimator sk-toggleable\"><input class=\"sk-toggleable__control sk-hidden--visually\" id=\"sk-estimator-id-2\" type=\"checkbox\" checked><label for=\"sk-estimator-id-2\" class=\"sk-toggleable__label sk-toggleable__label-arrow\">DecisionTreeClassifier</label><div class=\"sk-toggleable__content\"><pre>DecisionTreeClassifier(criterion=&#x27;entropy&#x27;, random_state=0)</pre></div></div></div></div></div>"
      ],
      "text/plain": [
       "DecisionTreeClassifier(criterion='entropy', random_state=0)"
      ]
     },
     "execution_count": 30,
     "metadata": {},
     "output_type": "execute_result"
    }
   ],
   "source": [
    "dt = DecisionTreeClassifier(criterion='entropy', random_state=0)\n",
    "dt.fit(X_train, y_train)"
   ]
  },
  {
   "cell_type": "markdown",
   "metadata": {},
   "source": [
    "Predict the test set results"
   ]
  },
  {
   "cell_type": "code",
   "execution_count": 31,
   "metadata": {},
   "outputs": [],
   "source": [
    "y_pred = dt.predict(X_test)"
   ]
  },
  {
   "cell_type": "markdown",
   "metadata": {},
   "source": [
    "Inverse transform the predictions"
   ]
  },
  {
   "cell_type": "code",
   "execution_count": 32,
   "metadata": {},
   "outputs": [],
   "source": [
    "y_pred = labelencoder.inverse_transform(y_pred)"
   ]
  },
  {
   "cell_type": "markdown",
   "metadata": {},
   "source": [
    "Reshape the result to (10, 16) since each word is encoded into 16 numbers, 10 times."
   ]
  },
  {
   "cell_type": "code",
   "execution_count": 33,
   "metadata": {},
   "outputs": [],
   "source": [
    "y_pred = y_pred.reshape(10, 16)"
   ]
  },
  {
   "cell_type": "markdown",
   "metadata": {},
   "source": [
    "Calculate the mode for every column"
   ]
  },
  {
   "cell_type": "code",
   "execution_count": 34,
   "metadata": {},
   "outputs": [],
   "source": [
    "modes = [statistics.mode(column) for column in y_pred.transpose()]"
   ]
  },
  {
   "cell_type": "markdown",
   "metadata": {},
   "source": [
    "Find the secret word"
   ]
  },
  {
   "cell_type": "code",
   "execution_count": 35,
   "metadata": {},
   "outputs": [
    {
     "name": "stdout",
     "output_type": "stream",
     "text": [
      "toulouse\n"
     ]
    }
   ],
   "source": [
    "code_map = {\"04\": \"a\", \"08\": \"b\", \"12\": \"c\", \"16\": \"d\", \"20\": \"e\",\n",
    "            \"24\": \"f\", \"28\": \"g\", \"32\": \"h\", \"36\": \"i\", \"40\": \"j\",\n",
    "            \"44\": \"k\", \"48\": \"l\", \"52\": \"m\", \"56\": \"n\", \"60\": \"o\",\n",
    "            \"64\": \"p\", \"68\": \"q\", \"72\": \"r\", \"76\": \"s\", \"80\": \"t\",\n",
    "            \"84\": \"u\", \"88\": \"v\", \"92\": \"w\", \"96\": \"x\"}\n",
    "\n",
    "secret_word = \"\"\n",
    "for i in range(0, len(modes), 2):\n",
    "    secret_word += code_map[str(modes[i]) + str(modes[i + 1])]\n",
    "print(secret_word)"
   ]
  },
  {
   "cell_type": "markdown",
   "metadata": {},
   "source": [
    "Knowing the answer is \"toulouse\", we will build y_test in order to evaluate the model"
   ]
  },
  {
   "cell_type": "code",
   "execution_count": 36,
   "metadata": {},
   "outputs": [],
   "source": [
    "y_test = np.array(list(\"toulouse\"))\n",
    "y_test = [list(code_map.keys())[list(code_map.values()).index(c)]\n",
    "          for c in y_test]\n",
    "y_test = np.array([[int(c[0]), int(c[1])] for c in y_test])\n",
    "y_test = y_test.flatten()\n",
    "y_test = np.array([y_test for _ in range(10)])"
   ]
  },
  {
   "cell_type": "markdown",
   "metadata": {},
   "source": [
    "Evaluate the model"
   ]
  },
  {
   "cell_type": "code",
   "execution_count": 37,
   "metadata": {},
   "outputs": [
    {
     "name": "stdout",
     "output_type": "stream",
     "text": [
      "Confusion matrix:\n",
      "[[27  1  2  3  0  1  2  0  3  1]\n",
      " [ 0  0  0  0  0  0  0  0  0  0]\n",
      " [ 0  0  9  0  0  1  0  0  0  0]\n",
      " [ 0  0  0  0  0  0  0  0  0  0]\n",
      " [ 0  2  0  0 25  0  0  1  1  1]\n",
      " [ 0  0  0  0  0  0  0  0  0  0]\n",
      " [ 0  0  1  1  0  1 25  1  0  1]\n",
      " [ 1  3  1  1  0  0  0  4  0  0]\n",
      " [ 7  0  3  2  0  0  5  0 23  0]\n",
      " [ 0  0  0  0  0  0  0  0  0  0]]\n",
      "Accuracy score:\n",
      "0.70625\n",
      "Classification report:\n",
      "              precision    recall  f1-score   support\n",
      "\n",
      "           0       0.77      0.68      0.72        40\n",
      "           1       0.00      0.00      0.00         0\n",
      "           2       0.56      0.90      0.69        10\n",
      "           3       0.00      0.00      0.00         0\n",
      "           4       1.00      0.83      0.91        30\n",
      "           5       0.00      0.00      0.00         0\n",
      "           6       0.78      0.83      0.81        30\n",
      "           7       0.67      0.40      0.50        10\n",
      "           8       0.85      0.57      0.69        40\n",
      "           9       0.00      0.00      0.00         0\n",
      "\n",
      "    accuracy                           0.71       160\n",
      "   macro avg       0.46      0.42      0.43       160\n",
      "weighted avg       0.82      0.71      0.75       160\n",
      "\n"
     ]
    }
   ],
   "source": [
    "print(\"Confusion matrix:\")\n",
    "print(confusion_matrix(y_test.flatten(), y_pred.flatten()))\n",
    "print(\"Accuracy score:\")\n",
    "print(accuracy_score(y_test.flatten(), y_pred.flatten()))\n",
    "print(\"Classification report:\")\n",
    "print(classification_report(y_test.flatten(), y_pred.flatten(), zero_division=0))"
   ]
  },
  {
   "cell_type": "markdown",
   "metadata": {},
   "source": [
    "The accuracy is 70.625%"
   ]
  },
  {
   "cell_type": "markdown",
   "metadata": {},
   "source": [
    "We will now try to improve the model by using GridSearchCV to find the best parameters."
   ]
  },
  {
   "cell_type": "code",
   "execution_count": 43,
   "metadata": {},
   "outputs": [
    {
     "name": "stdout",
     "output_type": "stream",
     "text": [
      "Best parameters:\n",
      "{'criterion': 'entropy', 'max_depth': 6, 'min_samples_leaf': 5, 'min_samples_split': 2}\n"
     ]
    },
    {
     "name": "stderr",
     "output_type": "stream",
     "text": [
      "/home/omar/anaconda3/lib/python3.11/site-packages/sklearn/model_selection/_validation.py:425: FitFailedWarning: \n",
      "800 fits failed out of a total of 4800.\n",
      "The score on these train-test partitions for these parameters will be set to nan.\n",
      "If these failures are not expected, you can try to debug them by setting error_score='raise'.\n",
      "\n",
      "Below are more details about the failures:\n",
      "--------------------------------------------------------------------------------\n",
      "800 fits failed with the following error:\n",
      "Traceback (most recent call last):\n",
      "  File \"/home/omar/anaconda3/lib/python3.11/site-packages/sklearn/model_selection/_validation.py\", line 732, in _fit_and_score\n",
      "    estimator.fit(X_train, y_train, **fit_params)\n",
      "  File \"/home/omar/anaconda3/lib/python3.11/site-packages/sklearn/base.py\", line 1144, in wrapper\n",
      "    estimator._validate_params()\n",
      "  File \"/home/omar/anaconda3/lib/python3.11/site-packages/sklearn/base.py\", line 637, in _validate_params\n",
      "    validate_parameter_constraints(\n",
      "  File \"/home/omar/anaconda3/lib/python3.11/site-packages/sklearn/utils/_param_validation.py\", line 95, in validate_parameter_constraints\n",
      "    raise InvalidParameterError(\n",
      "sklearn.utils._param_validation.InvalidParameterError: The 'min_samples_leaf' parameter of DecisionTreeClassifier must be an int in the range [1, inf) or a float in the range (0.0, 1.0). Got 0 instead.\n",
      "\n",
      "  warnings.warn(some_fits_failed_message, FitFailedWarning)\n",
      "/home/omar/anaconda3/lib/python3.11/site-packages/sklearn/model_selection/_search.py:976: UserWarning: One or more of the test scores are non-finite: [   nan    nan    nan    nan    nan 0.3148 0.3148 0.3148 0.3148 0.3148\n",
      " 0.3148 0.3148 0.3148 0.3148 0.3148 0.3148 0.3148 0.3148 0.3148 0.3148\n",
      " 0.3148 0.3148 0.3148 0.3148 0.3148 0.3148 0.3148 0.3148 0.3148 0.3148\n",
      "    nan    nan    nan    nan    nan 0.6856 0.6856 0.6856 0.6856 0.6856\n",
      " 0.6856 0.6856 0.6856 0.6856 0.6856 0.6856 0.6856 0.6856 0.6856 0.6856\n",
      " 0.6856 0.6856 0.6856 0.6856 0.6856 0.6856 0.6856 0.6856 0.6856 0.6856\n",
      "    nan    nan    nan    nan    nan 0.7248 0.7248 0.7248 0.7248 0.7248\n",
      " 0.7264 0.7264 0.7264 0.7264 0.7264 0.7268 0.7268 0.7268 0.7272 0.7272\n",
      " 0.7272 0.7272 0.7272 0.7272 0.7272 0.7272 0.7272 0.7272 0.7272 0.7272\n",
      "    nan    nan    nan    nan    nan 0.7012 0.7012 0.7052 0.7064 0.7088\n",
      " 0.7048 0.7048 0.7076 0.7104 0.712  0.7072 0.7072 0.7072 0.7108 0.7132\n",
      " 0.7124 0.7124 0.7124 0.7124 0.7156 0.7192 0.7192 0.7192 0.7192 0.7192\n",
      "    nan    nan    nan    nan    nan 0.6856 0.686  0.6948 0.7036 0.7088\n",
      " 0.6964 0.6964 0.6992 0.708  0.7112 0.7072 0.7072 0.7072 0.7104 0.714\n",
      " 0.714  0.714  0.714  0.714  0.718  0.7176 0.7176 0.7176 0.7176 0.7176\n",
      "    nan    nan    nan    nan    nan 0.6664 0.672  0.6816 0.6948 0.7028\n",
      " 0.6832 0.6832 0.6872 0.6992 0.7048 0.6972 0.6972 0.6972 0.706  0.7096\n",
      " 0.7112 0.7112 0.7112 0.7112 0.7148 0.7164 0.7164 0.7164 0.7164 0.7164\n",
      "    nan    nan    nan    nan    nan 0.6684 0.672  0.6808 0.694  0.7028\n",
      " 0.6836 0.6836 0.6876 0.6988 0.7048 0.6968 0.6968 0.6968 0.7068 0.7096\n",
      " 0.7116 0.7116 0.7116 0.7116 0.7148 0.7164 0.7164 0.7164 0.7164 0.7164\n",
      "    nan    nan    nan    nan    nan 0.6684 0.672  0.6808 0.694  0.7028\n",
      " 0.6836 0.6836 0.6876 0.6988 0.7048 0.6968 0.6968 0.6968 0.7068 0.7096\n",
      " 0.7116 0.7116 0.7116 0.7116 0.7148 0.7164 0.7164 0.7164 0.7164 0.7164\n",
      "    nan    nan    nan    nan    nan 0.3188 0.3188 0.3188 0.3188 0.3188\n",
      " 0.3188 0.3188 0.3188 0.3188 0.3188 0.3188 0.3188 0.3188 0.3188 0.3188\n",
      " 0.3188 0.3188 0.3188 0.3188 0.3188 0.3188 0.3188 0.3188 0.3188 0.3188\n",
      "    nan    nan    nan    nan    nan 0.6892 0.6892 0.6892 0.6892 0.6892\n",
      " 0.6892 0.6892 0.6892 0.6892 0.6892 0.6892 0.6892 0.6892 0.6892 0.6892\n",
      " 0.6892 0.6892 0.6892 0.6892 0.6892 0.6892 0.6892 0.6892 0.6892 0.6892\n",
      "    nan    nan    nan    nan    nan 0.7272 0.7272 0.7276 0.7276 0.7268\n",
      " 0.7284 0.7284 0.7288 0.7288 0.728  0.7308 0.7308 0.7308 0.7308 0.73\n",
      " 0.7316 0.7316 0.7316 0.7316 0.7308 0.7324 0.7324 0.7324 0.7324 0.7324\n",
      "    nan    nan    nan    nan    nan 0.7032 0.704  0.712  0.7128 0.7192\n",
      " 0.71   0.71   0.7136 0.7156 0.7212 0.7164 0.7164 0.7164 0.7184 0.7228\n",
      " 0.7204 0.7204 0.7204 0.7204 0.724  0.7244 0.7244 0.7244 0.7244 0.7244\n",
      "    nan    nan    nan    nan    nan 0.6824 0.6884 0.6988 0.7096 0.7156\n",
      " 0.694  0.694  0.7032 0.7124 0.7184 0.71   0.71   0.71   0.7152 0.7216\n",
      " 0.7156 0.7156 0.7156 0.7156 0.7204 0.7196 0.7196 0.7196 0.7196 0.7196\n",
      "    nan    nan    nan    nan    nan 0.666  0.6756 0.6876 0.7008 0.7096\n",
      " 0.6856 0.6856 0.6948 0.706  0.7152 0.7056 0.7056 0.7056 0.7096 0.7196\n",
      " 0.7132 0.7132 0.7132 0.7132 0.7184 0.7188 0.7188 0.7188 0.7188 0.7188\n",
      "    nan    nan    nan    nan    nan 0.6668 0.6732 0.6864 0.7016 0.7088\n",
      " 0.6856 0.6856 0.6976 0.7064 0.7156 0.7068 0.7068 0.7068 0.7108 0.7188\n",
      " 0.7136 0.7136 0.7136 0.7136 0.718  0.7184 0.7184 0.7184 0.7184 0.7184\n",
      "    nan    nan    nan    nan    nan 0.6668 0.6732 0.6864 0.7016 0.7088\n",
      " 0.6856 0.6856 0.6976 0.7064 0.7156 0.7068 0.7068 0.7068 0.7108 0.7188\n",
      " 0.7136 0.7136 0.7136 0.7136 0.718  0.7184 0.7184 0.7184 0.7184 0.7184]\n",
      "  warnings.warn(\n"
     ]
    }
   ],
   "source": [
    "# Define the parameters\n",
    "param_grid = {\n",
    "    'criterion': ['gini', 'entropy'],\n",
    "    'max_depth': [2, 4, 6, 8, 10, 12, 14, 16],\n",
    "    'min_samples_split': np.arange(2, 11, 2),\n",
    "    'min_samples_leaf': np.arange(6),\n",
    "}\n",
    "\n",
    "# Instantiate the grid search model\n",
    "grid_search = GridSearchCV(estimator=dt,\n",
    "                           param_grid=param_grid,\n",
    "                           cv=10,\n",
    "                           n_jobs=-1)\n",
    "\n",
    "# Fit the grid search to the data\n",
    "grid_search.fit(X_train, y_train)\n",
    "\n",
    "# Get the best parameters\n",
    "print(\"Best parameters:\")\n",
    "print(grid_search.best_params_)"
   ]
  },
  {
   "cell_type": "code",
   "execution_count": 45,
   "metadata": {},
   "outputs": [
    {
     "name": "stdout",
     "output_type": "stream",
     "text": [
      "toulouse\n"
     ]
    }
   ],
   "source": [
    "# Predict the test set results\n",
    "y_pred = grid_search.predict(X_test)\n",
    "\n",
    "# Inverse transform the predictions\n",
    "y_pred = labelencoder.inverse_transform(y_pred)\n",
    "\n",
    "# Reshape the result to (10, 16)\n",
    "y_pred = y_pred.reshape(10, 16)\n",
    "\n",
    "# Calculate the mode for every column\n",
    "modes = [statistics.mode(column) for column in y_pred.transpose()]\n",
    "\n",
    "# Find the secret word\n",
    "secret_word = \"\"\n",
    "for i in range(0, len(modes), 2):\n",
    "    secret_word += code_map[str(modes[i]) + str(modes[i + 1])]\n",
    "print(secret_word)"
   ]
  },
  {
   "cell_type": "markdown",
   "metadata": {},
   "source": [
    "We got the correct answer"
   ]
  },
  {
   "cell_type": "code",
   "execution_count": 44,
   "metadata": {},
   "outputs": [
    {
     "name": "stdout",
     "output_type": "stream",
     "text": [
      "Confusion matrix:\n",
      "[[29  0  0  2  0  0  3  0  4  2]\n",
      " [ 0  0  0  0  0  0  0  0  0  0]\n",
      " [ 0  0  9  0  0  0  0  0  0  1]\n",
      " [ 0  0  0  0  0  0  0  0  0  0]\n",
      " [ 0  3  1  0 23  0  0  1  1  1]\n",
      " [ 0  0  0  0  0  0  0  0  0  0]\n",
      " [ 0  0  3  0  0  2 25  0  0  0]\n",
      " [ 1  3  0  0  0  0  0  6  0  0]\n",
      " [ 1  0  6  3  0  0  3  0 27  0]\n",
      " [ 0  0  0  0  0  0  0  0  0  0]]\n",
      "Accuracy score:\n",
      "0.74375\n",
      "Classification report:\n",
      "              precision    recall  f1-score   support\n",
      "\n",
      "           0       0.94      0.72      0.82        40\n",
      "           1       0.00      0.00      0.00         0\n",
      "           2       0.47      0.90      0.62        10\n",
      "           3       0.00      0.00      0.00         0\n",
      "           4       1.00      0.77      0.87        30\n",
      "           5       0.00      0.00      0.00         0\n",
      "           6       0.81      0.83      0.82        30\n",
      "           7       0.86      0.60      0.71        10\n",
      "           8       0.84      0.68      0.75        40\n",
      "           9       0.00      0.00      0.00         0\n",
      "\n",
      "    accuracy                           0.74       160\n",
      "   macro avg       0.49      0.45      0.46       160\n",
      "weighted avg       0.87      0.74      0.79       160\n",
      "\n"
     ]
    }
   ],
   "source": [
    "# Use previously generated y_test to evaluate the model\n",
    "print(\"Confusion matrix:\")\n",
    "print(confusion_matrix(y_test.flatten(), y_pred.flatten()))\n",
    "print(\"Accuracy score:\")\n",
    "print(accuracy_score(y_test.flatten(), y_pred.flatten()))\n",
    "print(\"Classification report:\")\n",
    "print(classification_report(y_test.flatten(), y_pred.flatten(), zero_division=0))"
   ]
  },
  {
   "cell_type": "markdown",
   "metadata": {},
   "source": [
    "The accuracy is 74.375%, not a big improvement, but the precision of each class is better"
   ]
  }
 ],
 "metadata": {
  "kernelspec": {
   "display_name": "base",
   "language": "python",
   "name": "python3"
  },
  "language_info": {
   "codemirror_mode": {
    "name": "ipython",
    "version": 3
   },
   "file_extension": ".py",
   "mimetype": "text/x-python",
   "name": "python",
   "nbconvert_exporter": "python",
   "pygments_lexer": "ipython3",
   "version": "3.11.5"
  }
 },
 "nbformat": 4,
 "nbformat_minor": 2
}
