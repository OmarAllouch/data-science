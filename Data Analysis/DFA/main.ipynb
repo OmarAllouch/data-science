{
 "cells": [
  {
   "cell_type": "markdown",
   "id": "65a2b0ce",
   "metadata": {},
   "source": [
    "# TP - AFD "
   ]
  },
  {
   "cell_type": "markdown",
   "id": "3169c149",
   "metadata": {},
   "source": [
    "> Done by MATHIEU SROUR et OMAR ALLOUCH"
   ]
  },
  {
   "cell_type": "code",
   "execution_count": 226,
   "id": "eec6b74c",
   "metadata": {},
   "outputs": [],
   "source": [
    "import numpy as np\n",
    "import pandas as pd\n",
    "import matplotlib.pyplot as plt\n",
    "import warnings\n",
    "warnings.filterwarnings(\"ignore\")\n",
    "\n",
    "from sklearn.preprocessing import LabelEncoder, StandardScaler\n",
    "from sklearn.discriminant_analysis import LinearDiscriminantAnalysis"
   ]
  },
  {
   "cell_type": "code",
   "execution_count": 227,
   "id": "4339a34d",
   "metadata": {},
   "outputs": [],
   "source": [
    "data = pd.read_csv('chienloup.csv', sep=';')"
   ]
  },
  {
   "cell_type": "code",
   "execution_count": 228,
   "id": "8500f277",
   "metadata": {},
   "outputs": [
    {
     "data": {
      "text/html": [
       "<div>\n",
       "<style scoped>\n",
       "    .dataframe tbody tr th:only-of-type {\n",
       "        vertical-align: middle;\n",
       "    }\n",
       "\n",
       "    .dataframe tbody tr th {\n",
       "        vertical-align: top;\n",
       "    }\n",
       "\n",
       "    .dataframe thead th {\n",
       "        text-align: right;\n",
       "    }\n",
       "</style>\n",
       "<table border=\"1\" class=\"dataframe\">\n",
       "  <thead>\n",
       "    <tr style=\"text-align: right;\">\n",
       "      <th></th>\n",
       "      <th>SPE</th>\n",
       "      <th>LCB</th>\n",
       "      <th>LSM</th>\n",
       "      <th>LBM</th>\n",
       "      <th>LP</th>\n",
       "      <th>LM</th>\n",
       "      <th>LAM</th>\n",
       "      <th>GENRE</th>\n",
       "    </tr>\n",
       "  </thead>\n",
       "  <tbody>\n",
       "    <tr>\n",
       "      <th>32</th>\n",
       "      <td>LOUP 3</td>\n",
       "      <td>2280</td>\n",
       "      <td>1220</td>\n",
       "      <td>820</td>\n",
       "      <td>247</td>\n",
       "      <td>150</td>\n",
       "      <td>185</td>\n",
       "      <td>LOUP</td>\n",
       "    </tr>\n",
       "    <tr>\n",
       "      <th>33</th>\n",
       "      <td>LOUP 4</td>\n",
       "      <td>2320</td>\n",
       "      <td>1230</td>\n",
       "      <td>830</td>\n",
       "      <td>253</td>\n",
       "      <td>168</td>\n",
       "      <td>155</td>\n",
       "      <td>LOUP</td>\n",
       "    </tr>\n",
       "    <tr>\n",
       "      <th>34</th>\n",
       "      <td>LOUP 5</td>\n",
       "      <td>2310</td>\n",
       "      <td>1210</td>\n",
       "      <td>780</td>\n",
       "      <td>235</td>\n",
       "      <td>165</td>\n",
       "      <td>196</td>\n",
       "      <td>LOUP</td>\n",
       "    </tr>\n",
       "    <tr>\n",
       "      <th>35</th>\n",
       "      <td>LOUP 6</td>\n",
       "      <td>2150</td>\n",
       "      <td>1180</td>\n",
       "      <td>740</td>\n",
       "      <td>257</td>\n",
       "      <td>157</td>\n",
       "      <td>190</td>\n",
       "      <td>LOUP</td>\n",
       "    </tr>\n",
       "    <tr>\n",
       "      <th>36</th>\n",
       "      <td>LOUP 7</td>\n",
       "      <td>1840</td>\n",
       "      <td>1000</td>\n",
       "      <td>690</td>\n",
       "      <td>233</td>\n",
       "      <td>158</td>\n",
       "      <td>197</td>\n",
       "      <td>LOUP</td>\n",
       "    </tr>\n",
       "    <tr>\n",
       "      <th>37</th>\n",
       "      <td>LOUP 8</td>\n",
       "      <td>1750</td>\n",
       "      <td>940</td>\n",
       "      <td>730</td>\n",
       "      <td>222</td>\n",
       "      <td>148</td>\n",
       "      <td>170</td>\n",
       "      <td>LOUP</td>\n",
       "    </tr>\n",
       "    <tr>\n",
       "      <th>38</th>\n",
       "      <td>LOUP 9</td>\n",
       "      <td>2390</td>\n",
       "      <td>1240</td>\n",
       "      <td>770</td>\n",
       "      <td>250</td>\n",
       "      <td>168</td>\n",
       "      <td>270</td>\n",
       "      <td>LOUP</td>\n",
       "    </tr>\n",
       "    <tr>\n",
       "      <th>39</th>\n",
       "      <td>LOUP 10</td>\n",
       "      <td>2030</td>\n",
       "      <td>1090</td>\n",
       "      <td>700</td>\n",
       "      <td>233</td>\n",
       "      <td>150</td>\n",
       "      <td>187</td>\n",
       "      <td>LOUP</td>\n",
       "    </tr>\n",
       "    <tr>\n",
       "      <th>40</th>\n",
       "      <td>LOUP 11</td>\n",
       "      <td>2260</td>\n",
       "      <td>1180</td>\n",
       "      <td>720</td>\n",
       "      <td>260</td>\n",
       "      <td>160</td>\n",
       "      <td>194</td>\n",
       "      <td>LOUP</td>\n",
       "    </tr>\n",
       "    <tr>\n",
       "      <th>41</th>\n",
       "      <td>LOUP 12</td>\n",
       "      <td>2260</td>\n",
       "      <td>1190</td>\n",
       "      <td>770</td>\n",
       "      <td>265</td>\n",
       "      <td>168</td>\n",
       "      <td>193</td>\n",
       "      <td>LOUP</td>\n",
       "    </tr>\n",
       "  </tbody>\n",
       "</table>\n",
       "</div>"
      ],
      "text/plain": [
       "        SPE  LCB    LSM     LBM  LP    LM    LAM GENRE\n",
       "32   LOUP 3   2280   1220   820   247   150  185  LOUP\n",
       "33   LOUP 4   2320   1230   830   253   168  155  LOUP\n",
       "34   LOUP 5   2310   1210   780   235   165  196  LOUP\n",
       "35   LOUP 6   2150   1180   740   257   157  190  LOUP\n",
       "36   LOUP 7   1840   1000   690   233   158  197  LOUP\n",
       "37   LOUP 8   1750    940   730   222   148  170  LOUP\n",
       "38   LOUP 9   2390   1240   770   250   168  270  LOUP\n",
       "39  LOUP 10   2030   1090   700   233   150  187  LOUP\n",
       "40  LOUP 11   2260   1180   720   260   160  194  LOUP\n",
       "41  LOUP 12   2260   1190   770   265   168  193  LOUP"
      ]
     },
     "execution_count": 228,
     "metadata": {},
     "output_type": "execute_result"
    }
   ],
   "source": [
    "data.tail(10)"
   ]
  },
  {
   "cell_type": "code",
   "execution_count": 229,
   "id": "76a6f782",
   "metadata": {},
   "outputs": [
    {
     "data": {
      "text/html": [
       "<div>\n",
       "<style scoped>\n",
       "    .dataframe tbody tr th:only-of-type {\n",
       "        vertical-align: middle;\n",
       "    }\n",
       "\n",
       "    .dataframe tbody tr th {\n",
       "        vertical-align: top;\n",
       "    }\n",
       "\n",
       "    .dataframe thead th {\n",
       "        text-align: right;\n",
       "    }\n",
       "</style>\n",
       "<table border=\"1\" class=\"dataframe\">\n",
       "  <thead>\n",
       "    <tr style=\"text-align: right;\">\n",
       "      <th></th>\n",
       "      <th>SPE</th>\n",
       "      <th>LCB</th>\n",
       "      <th>LSM</th>\n",
       "      <th>LBM</th>\n",
       "      <th>LP</th>\n",
       "      <th>LM</th>\n",
       "      <th>LAM</th>\n",
       "      <th>GENRE</th>\n",
       "    </tr>\n",
       "  </thead>\n",
       "  <tbody>\n",
       "    <tr>\n",
       "      <th>0</th>\n",
       "      <td>BULL-DOG 1</td>\n",
       "      <td>1290</td>\n",
       "      <td>640</td>\n",
       "      <td>950</td>\n",
       "      <td>175</td>\n",
       "      <td>112</td>\n",
       "      <td>138</td>\n",
       "      <td>0</td>\n",
       "    </tr>\n",
       "    <tr>\n",
       "      <th>1</th>\n",
       "      <td>BULL-DOG 2</td>\n",
       "      <td>1540</td>\n",
       "      <td>740</td>\n",
       "      <td>760</td>\n",
       "      <td>200</td>\n",
       "      <td>142</td>\n",
       "      <td>165</td>\n",
       "      <td>0</td>\n",
       "    </tr>\n",
       "    <tr>\n",
       "      <th>2</th>\n",
       "      <td>BOXER</td>\n",
       "      <td>1580</td>\n",
       "      <td>710</td>\n",
       "      <td>710</td>\n",
       "      <td>167</td>\n",
       "      <td>125</td>\n",
       "      <td>133</td>\n",
       "      <td>0</td>\n",
       "    </tr>\n",
       "    <tr>\n",
       "      <th>3</th>\n",
       "      <td>SAINT-BERNARD</td>\n",
       "      <td>2200</td>\n",
       "      <td>1110</td>\n",
       "      <td>880</td>\n",
       "      <td>225</td>\n",
       "      <td>154</td>\n",
       "      <td>180</td>\n",
       "      <td>0</td>\n",
       "    </tr>\n",
       "    <tr>\n",
       "      <th>4</th>\n",
       "      <td>BULL-MASSIF</td>\n",
       "      <td>1900</td>\n",
       "      <td>930</td>\n",
       "      <td>780</td>\n",
       "      <td>197</td>\n",
       "      <td>132</td>\n",
       "      <td>140</td>\n",
       "      <td>0</td>\n",
       "    </tr>\n",
       "  </tbody>\n",
       "</table>\n",
       "</div>"
      ],
      "text/plain": [
       "             SPE  LCB    LSM     LBM  LP    LM    LAM  GENRE\n",
       "0     BULL-DOG 1   1290    640   950   175   112  138      0\n",
       "1     BULL-DOG 2   1540    740   760   200   142  165      0\n",
       "2          BOXER   1580    710   710   167   125  133      0\n",
       "3  SAINT-BERNARD   2200   1110   880   225   154  180      0\n",
       "4    BULL-MASSIF   1900    930   780   197   132  140      0"
      ]
     },
     "execution_count": 229,
     "metadata": {},
     "output_type": "execute_result"
    }
   ],
   "source": [
    "label_encoder = LabelEncoder()\n",
    "\n",
    "data['GENRE'] = label_encoder.fit_transform(data['GENRE'])\n",
    "data.head()"
   ]
  },
  {
   "cell_type": "markdown",
   "id": "fc90727b",
   "metadata": {},
   "source": [
    "Chien representé par 0, loup representé par 1"
   ]
  },
  {
   "cell_type": "code",
   "execution_count": 230,
   "id": "255436d9",
   "metadata": {},
   "outputs": [],
   "source": [
    "X = data.drop(['GENRE', 'SPE'], axis=1)\n",
    "y = data['GENRE']"
   ]
  },
  {
   "cell_type": "code",
   "execution_count": 231,
   "id": "e4482d67",
   "metadata": {},
   "outputs": [],
   "source": [
    "data_chien = data[data['GENRE'] == 0]\n",
    "data_loup = data[data['GENRE'] == 1]\n",
    "\n",
    "X_chien = data_chien.drop(['GENRE'], axis=1)\n",
    "X_loup = data_loup.drop(['GENRE'], axis=1)"
   ]
  },
  {
   "cell_type": "markdown",
   "id": "089ad5a9",
   "metadata": {},
   "source": [
    "### Matrice Intra-variance"
   ]
  },
  {
   "cell_type": "code",
   "execution_count": 232,
   "id": "8a8a4a8c",
   "metadata": {},
   "outputs": [
    {
     "data": {
      "text/plain": [
       "array([[70166.94444444, 36126.58730159,  7473.13492063,  2907.95634921,\n",
       "         2022.90873016,  2907.53174603],\n",
       "       [36126.58730159, 20150.3968254 ,  1862.3015873 ,  1526.70634921,\n",
       "         1034.32539683,  1442.34126984],\n",
       "       [ 7473.13492063,  1862.3015873 ,  7990.75396825,   482.71825397,\n",
       "          260.1468254 ,   513.1031746 ],\n",
       "       [ 2907.95634921,  1526.70634921,   482.71825397,   204.83134921,\n",
       "          108.97420635,   149.09126984],\n",
       "       [ 2022.90873016,  1034.32539683,   260.1468254 ,   108.97420635,\n",
       "           93.39960317,   115.10396825],\n",
       "       [ 2907.53174603,  1442.34126984,   513.1031746 ,   149.09126984,\n",
       "          115.10396825,   361.97698413]])"
      ]
     },
     "execution_count": 232,
     "metadata": {},
     "output_type": "execute_result"
    }
   ],
   "source": [
    "classes = np.unique(y)\n",
    "n_classes = len(classes)\n",
    "    \n",
    "overall_mean = np.mean(X, axis=0)\n",
    "    \n",
    "S_W = np.zeros((X.shape[1], X.shape[1]))\n",
    "    \n",
    "for k in classes:\n",
    "    X_class_k = np.array(X[y == k])\n",
    "    mean_class_k = np.mean(X_class_k, axis=0)\n",
    "        \n",
    "    for i in range(len(X_class_k)):\n",
    "        diff = X_class_k[i, :] - mean_class_k\n",
    "        S_W += np.outer(diff, diff)\n",
    "    \n",
    "S_W /= len(y)\n",
    "S_W"
   ]
  },
  {
   "cell_type": "markdown",
   "id": "bc72a826",
   "metadata": {},
   "source": [
    "### Inter-variance pour chien"
   ]
  },
  {
   "cell_type": "code",
   "execution_count": 233,
   "id": "f64e2549",
   "metadata": {},
   "outputs": [
    {
     "data": {
      "text/plain": [
       "array([[1280.07936508,  921.54195011,  347.01814059,  413.9739229 ,\n",
       "         180.13265306,  298.92517007],\n",
       "       [ 921.54195011,  663.42727567,  249.8218335 ,  298.02397149,\n",
       "         129.67930029,  215.19922255],\n",
       "       [ 347.01814059,  249.8218335 ,   94.07353418,  112.22465177,\n",
       "          48.83236152,   81.03595724],\n",
       "       [ 413.9739229 ,  298.02397149,  112.22465177,  133.87795594,\n",
       "          58.25437318,   96.67152575],\n",
       "       [ 180.13265306,  129.67930029,   48.83236152,   58.25437318,\n",
       "          25.34825073,   42.06472303],\n",
       "       [ 298.92517007,  215.19922255,   81.03595724,   96.67152575,\n",
       "          42.06472303,   69.80524781]])"
      ]
     },
     "execution_count": 233,
     "metadata": {},
     "output_type": "execute_result"
    }
   ],
   "source": [
    "overall_mean = np.mean(X, axis=0)\n",
    "X_chien_ = X_chien.drop(['SPE'], axis=1)\n",
    "S_B_chien = np.zeros((X_chien_.shape[1], X_chien_.shape[1]))\n",
    "X_class_chien = X[y == 0]\n",
    "n_class_chien = len(X_class_chien)\n",
    "        \n",
    "# Calculate the mean of class i\n",
    "Gk_g = np.zeros((X_chien_.shape[1], 1))\n",
    "mean_class_chien = np.mean(X_class_chien, axis=0)\n",
    "Gk_g[:, 0] = mean_class_chien - overall_mean\n",
    "S_B_chien = (n_class_chien * np.dot(Gk_g, Gk_g.T))/len(y)\n",
    "S_B_chien"
   ]
  },
  {
   "cell_type": "markdown",
   "id": "cc8cc900",
   "metadata": {},
   "source": [
    "### Inter-variance loup"
   ]
  },
  {
   "cell_type": "code",
   "execution_count": 234,
   "id": "5558a9a8",
   "metadata": {},
   "outputs": [
    {
     "data": {
      "text/plain": [
       "array([[3200.1984127 , 2303.85487528,  867.54535147, 1034.93480726,\n",
       "         450.33163265,  747.31292517],\n",
       "       [2303.85487528, 1658.56818918,  624.55458374,  745.05992873,\n",
       "         324.19825073,  537.99805637],\n",
       "       [ 867.54535147,  624.55458374,  235.18383544,  280.56162941,\n",
       "         122.08090379,  202.5898931 ],\n",
       "       [1034.93480726,  745.05992873,  280.56162941,  334.69488986,\n",
       "         145.63593294,  241.67881438],\n",
       "       [ 450.33163265,  324.19825073,  122.08090379,  145.63593294,\n",
       "          63.37062682,  105.16180758],\n",
       "       [ 747.31292517,  537.99805637,  202.5898931 ,  241.67881438,\n",
       "         105.16180758,  174.51311953]])"
      ]
     },
     "execution_count": 234,
     "metadata": {},
     "output_type": "execute_result"
    }
   ],
   "source": [
    "overall_mean = np.mean(X, axis=0)\n",
    "X_loup_ = X_loup.drop(['SPE'], axis=1)\n",
    "S_B_loup = np.zeros((X_loup_.shape[1], X_loup_.shape[1]))\n",
    "X_class_loup = X[y == 1]\n",
    "n_class_loup = len(X_class_loup)\n",
    "        \n",
    "# Calculate the mean of class i\n",
    "Gk_g = np.zeros((X_loup_.shape[1], 1))\n",
    "mean_class_loup = np.mean(X_class_loup, axis=0)\n",
    "Gk_g[:, 0] = mean_class_loup - overall_mean\n",
    "S_B_loup = (n_class_loup * np.dot(Gk_g, Gk_g.T))/len(y)\n",
    "S_B_loup"
   ]
  },
  {
   "cell_type": "markdown",
   "id": "b3d6940c",
   "metadata": {},
   "source": [
    "### Matrice Inter-variance totale"
   ]
  },
  {
   "cell_type": "code",
   "execution_count": 235,
   "id": "ceb5a44f",
   "metadata": {},
   "outputs": [
    {
     "data": {
      "text/plain": [
       "array([[4480.27777778, 3225.3968254 , 1214.56349206, 1448.90873016,\n",
       "         630.46428571, 1046.23809524],\n",
       "       [3225.3968254 , 2321.99546485,  874.37641723, 1043.08390023,\n",
       "         453.87755102,  753.19727891],\n",
       "       [1214.56349206,  874.37641723,  329.25736961,  392.78628118,\n",
       "         170.91326531,  283.62585034],\n",
       "       [1448.90873016, 1043.08390023,  392.78628118,  468.5728458 ,\n",
       "         203.89030612,  338.35034014],\n",
       "       [ 630.46428571,  453.87755102,  170.91326531,  203.89030612,\n",
       "          88.71887755,  147.22653061],\n",
       "       [1046.23809524,  753.19727891,  283.62585034,  338.35034014,\n",
       "         147.22653061,  244.31836735]])"
      ]
     },
     "execution_count": 235,
     "metadata": {},
     "output_type": "execute_result"
    }
   ],
   "source": [
    "S_B = (S_B_loup + S_B_chien)\n",
    "S_B"
   ]
  },
  {
   "cell_type": "markdown",
   "id": "f0c1f4c7",
   "metadata": {},
   "source": [
    "### Matrice de variance totale"
   ]
  },
  {
   "cell_type": "code",
   "execution_count": 236,
   "id": "51c4448e",
   "metadata": {},
   "outputs": [
    {
     "data": {
      "text/plain": [
       "array([[74647.22222222, 39351.98412698,  8687.6984127 ,  4356.86507937,\n",
       "         2653.37301587,  3953.76984127],\n",
       "       [39351.98412698, 22472.39229025,  2736.67800454,  2569.79024943,\n",
       "         1488.20294785,  2195.53854875],\n",
       "       [ 8687.6984127 ,  2736.67800454,  8320.01133787,   875.50453515,\n",
       "          431.0600907 ,   796.72902494],\n",
       "       [ 4356.86507937,  2569.79024943,   875.50453515,   673.40419501,\n",
       "          312.86451247,   487.44160998],\n",
       "       [ 2653.37301587,  1488.20294785,   431.0600907 ,   312.86451247,\n",
       "          182.11848073,   262.33049887],\n",
       "       [ 3953.76984127,  2195.53854875,   796.72902494,   487.44160998,\n",
       "          262.33049887,   606.29535147]])"
      ]
     },
     "execution_count": 236,
     "metadata": {},
     "output_type": "execute_result"
    }
   ],
   "source": [
    "S_V = S_B + S_W\n",
    "S_V"
   ]
  },
  {
   "cell_type": "code",
   "execution_count": 237,
   "id": "1216472d",
   "metadata": {},
   "outputs": [
    {
     "data": {
      "text/html": [
       "<div>\n",
       "<style scoped>\n",
       "    .dataframe tbody tr th:only-of-type {\n",
       "        vertical-align: middle;\n",
       "    }\n",
       "\n",
       "    .dataframe tbody tr th {\n",
       "        vertical-align: top;\n",
       "    }\n",
       "\n",
       "    .dataframe thead th {\n",
       "        text-align: right;\n",
       "    }\n",
       "</style>\n",
       "<table border=\"1\" class=\"dataframe\">\n",
       "  <thead>\n",
       "    <tr style=\"text-align: right;\">\n",
       "      <th></th>\n",
       "      <th>LCB</th>\n",
       "      <th>LSM</th>\n",
       "      <th>LBM</th>\n",
       "      <th>LP</th>\n",
       "      <th>LM</th>\n",
       "      <th>LAM</th>\n",
       "    </tr>\n",
       "  </thead>\n",
       "  <tbody>\n",
       "    <tr>\n",
       "      <th>LCB</th>\n",
       "      <td>76467.886179</td>\n",
       "      <td>40311.788618</td>\n",
       "      <td>8899.593496</td>\n",
       "      <td>4463.130081</td>\n",
       "      <td>2718.089431</td>\n",
       "      <td>4050.203252</td>\n",
       "    </tr>\n",
       "    <tr>\n",
       "      <th>LSM</th>\n",
       "      <td>40311.788618</td>\n",
       "      <td>23020.499419</td>\n",
       "      <td>2803.426249</td>\n",
       "      <td>2632.468060</td>\n",
       "      <td>1524.500581</td>\n",
       "      <td>2249.088269</td>\n",
       "    </tr>\n",
       "    <tr>\n",
       "      <th>LBM</th>\n",
       "      <td>8899.593496</td>\n",
       "      <td>2803.426249</td>\n",
       "      <td>8522.938444</td>\n",
       "      <td>896.858304</td>\n",
       "      <td>441.573751</td>\n",
       "      <td>816.161440</td>\n",
       "    </tr>\n",
       "    <tr>\n",
       "      <th>LP</th>\n",
       "      <td>4463.130081</td>\n",
       "      <td>2632.468060</td>\n",
       "      <td>896.858304</td>\n",
       "      <td>689.828688</td>\n",
       "      <td>320.495354</td>\n",
       "      <td>499.330430</td>\n",
       "    </tr>\n",
       "    <tr>\n",
       "      <th>LM</th>\n",
       "      <td>2718.089431</td>\n",
       "      <td>1524.500581</td>\n",
       "      <td>441.573751</td>\n",
       "      <td>320.495354</td>\n",
       "      <td>186.560395</td>\n",
       "      <td>268.728804</td>\n",
       "    </tr>\n",
       "    <tr>\n",
       "      <th>LAM</th>\n",
       "      <td>4050.203252</td>\n",
       "      <td>2249.088269</td>\n",
       "      <td>816.161440</td>\n",
       "      <td>499.330430</td>\n",
       "      <td>268.728804</td>\n",
       "      <td>621.083043</td>\n",
       "    </tr>\n",
       "  </tbody>\n",
       "</table>\n",
       "</div>"
      ],
      "text/plain": [
       "              LCB           LSM            LBM         LP           LM    \\\n",
       "LCB    76467.886179  40311.788618  8899.593496  4463.130081  2718.089431   \n",
       "LSM    40311.788618  23020.499419  2803.426249  2632.468060  1524.500581   \n",
       " LBM    8899.593496   2803.426249  8522.938444   896.858304   441.573751   \n",
       "LP      4463.130081   2632.468060   896.858304   689.828688   320.495354   \n",
       "LM      2718.089431   1524.500581   441.573751   320.495354   186.560395   \n",
       "LAM     4050.203252   2249.088269   816.161440   499.330430   268.728804   \n",
       "\n",
       "               LAM  \n",
       "LCB    4050.203252  \n",
       "LSM    2249.088269  \n",
       " LBM    816.161440  \n",
       "LP      499.330430  \n",
       "LM      268.728804  \n",
       "LAM     621.083043  "
      ]
     },
     "execution_count": 237,
     "metadata": {},
     "output_type": "execute_result"
    }
   ],
   "source": [
    "X.cov()"
   ]
  },
  {
   "cell_type": "code",
   "execution_count": 238,
   "id": "deec014c",
   "metadata": {},
   "outputs": [
    {
     "name": "stdout",
     "output_type": "stream",
     "text": [
      "(6, 6)\n",
      "(6, 6)\n",
      "8.232443350346861e-19\n",
      "-1.409279339327259e-63\n"
     ]
    }
   ],
   "source": [
    "inv_V = np.linalg.inv(S_V)\n",
    "print(inv_V.shape)\n",
    "print(S_B.shape)\n",
    "print(np.linalg.det(inv_V))\n",
    "print(np.linalg.det(S_B))"
   ]
  },
  {
   "cell_type": "code",
   "execution_count": 239,
   "id": "bb673bf4",
   "metadata": {},
   "outputs": [
    {
     "name": "stdout",
     "output_type": "stream",
     "text": [
      "-5.807625270664054e-79\n"
     ]
    },
    {
     "data": {
      "text/plain": [
       "array([[-1.15686741e-01, -8.32840427e-02, -3.13616473e-02,\n",
       "        -3.74127536e-02, -1.62794277e-02, -2.70152614e-02],\n",
       "       [ 2.61561115e-03,  1.88300465e-03,  7.09068939e-04,\n",
       "         8.45880996e-04,  3.68068566e-04,  6.10799634e-04],\n",
       "       [-5.31060325e-02, -3.82315644e-02, -1.43965735e-02,\n",
       "        -1.71743356e-02, -7.47307611e-03, -1.24013637e-02],\n",
       "       [ 2.48822259e+00,  1.79129636e+00,  6.74535034e-01,\n",
       "         8.04683910e-01,  3.50142460e-01,  5.81051755e-01],\n",
       "       [ 5.29244316e-01,  3.81008281e-01,  1.43473431e-01,\n",
       "         1.71156064e-01,  7.44752125e-02,  1.23589561e-01],\n",
       "       [ 3.10913040e-01,  2.23829410e-01,  8.42857623e-02,\n",
       "         1.00548368e-01,  4.37516551e-02,  7.26046650e-02]])"
      ]
     },
     "execution_count": 239,
     "metadata": {},
     "output_type": "execute_result"
    }
   ],
   "source": [
    "matrice_a_diagonaliser = np.dot(inv_V, S_B)\n",
    "print(np.linalg.det(matrice_a_diagonaliser))\n",
    "matrice_a_diagonaliser"
   ]
  },
  {
   "cell_type": "markdown",
   "id": "df87aecb",
   "metadata": {},
   "source": [
    "The matrix can't be always diagonalised, because sometimes the total variance matrix doesn't have an inverse, which is the case when the number of features exceeds the number of samples"
   ]
  },
  {
   "cell_type": "code",
   "execution_count": 240,
   "id": "632225ed",
   "metadata": {},
   "outputs": [
    {
     "data": {
      "text/plain": [
       "array([[ 56.5702962 , -35.77819678],\n",
       "       [ 40.72552258, -25.75708205],\n",
       "       [ 15.3357046 ,  -9.69915121],\n",
       "       [ 18.29466835, -11.5705642 ],\n",
       "       [  7.96056699,  -5.03470463],\n",
       "       [ 13.21034139,  -8.35495349]])"
      ]
     },
     "execution_count": 240,
     "metadata": {},
     "output_type": "execute_result"
    }
   ],
   "source": [
    "G = np.mean(X, axis=0)\n",
    "\n",
    "# Get unique class labels\n",
    "unique_labels = np.unique(y)\n",
    "    \n",
    "# Number of features\n",
    "num_features = X.shape[1]\n",
    "    \n",
    "# Initialize C matrix\n",
    "C = np.zeros((num_features, len(unique_labels)))\n",
    "\n",
    "# Iterate over classes\n",
    "for c in unique_labels:\n",
    "    # Select data points from the current class\n",
    "    class_data = X[y == c]\n",
    "\n",
    "    # Compute class mean gc\n",
    "    gc = np.mean(class_data, axis=0)\n",
    "\n",
    "    # Compute sqrt(Ic) / N\n",
    "    sqrt_Ic_N = np.sqrt(len(class_data) / len(data))\n",
    "\n",
    "    # Update the corresponding column in C\n",
    "    C[:, c-1] = sqrt_Ic_N * (gc - G)\n",
    "\n",
    "C"
   ]
  },
  {
   "cell_type": "code",
   "execution_count": 241,
   "id": "340e7bbe",
   "metadata": {},
   "outputs": [
    {
     "data": {
      "text/plain": [
       "array([[4480.27777778, 3225.3968254 , 1214.56349206, 1448.90873016,\n",
       "         630.46428571, 1046.23809524],\n",
       "       [3225.3968254 , 2321.99546485,  874.37641723, 1043.08390023,\n",
       "         453.87755102,  753.19727891],\n",
       "       [1214.56349206,  874.37641723,  329.25736961,  392.78628118,\n",
       "         170.91326531,  283.62585034],\n",
       "       [1448.90873016, 1043.08390023,  392.78628118,  468.5728458 ,\n",
       "         203.89030612,  338.35034014],\n",
       "       [ 630.46428571,  453.87755102,  170.91326531,  203.89030612,\n",
       "          88.71887755,  147.22653061],\n",
       "       [1046.23809524,  753.19727891,  283.62585034,  338.35034014,\n",
       "         147.22653061,  244.31836735]])"
      ]
     },
     "execution_count": 241,
     "metadata": {},
     "output_type": "execute_result"
    }
   ],
   "source": [
    "np.dot(C, C.T)"
   ]
  },
  {
   "cell_type": "markdown",
   "id": "f9cbef88",
   "metadata": {},
   "source": [
    "Now we diagonalize the matrix (𝐂𝒕)*V^-1*(C)"
   ]
  },
  {
   "cell_type": "code",
   "execution_count": 242,
   "id": "d4138042",
   "metadata": {},
   "outputs": [
    {
     "data": {
      "text/plain": [
       "array([[ 0.58825963, -0.37204806],\n",
       "       [-0.37204806,  0.23530385]])"
      ]
     },
     "execution_count": 242,
     "metadata": {},
     "output_type": "execute_result"
    }
   ],
   "source": [
    "nouveau_matrice_a_diagonaliser = np.dot(np.dot(C.T, inv_V), C)\n",
    "nouveau_matrice_a_diagonaliser"
   ]
  },
  {
   "cell_type": "code",
   "execution_count": 243,
   "id": "bb9b9d68",
   "metadata": {},
   "outputs": [
    {
     "name": "stdout",
     "output_type": "stream",
     "text": [
      "[8.23563478e-01 4.85702563e-17]\n",
      "[[ 0.84515425  0.53452248]\n",
      " [-0.53452248  0.84515425]]\n"
     ]
    }
   ],
   "source": [
    "eigen_values, eigen_vectors = np.linalg.eig(nouveau_matrice_a_diagonaliser)\n",
    "print(eigen_values)\n",
    "print(eigen_vectors)"
   ]
  },
  {
   "cell_type": "markdown",
   "id": "f6d85ea9",
   "metadata": {},
   "source": [
    "To retrieve the orignal eigen vectors, we use: a = (V^-1)*C*V"
   ]
  },
  {
   "cell_type": "code",
   "execution_count": 244,
   "id": "07fc1b9a",
   "metadata": {},
   "outputs": [
    {
     "name": "stdout",
     "output_type": "stream",
     "text": [
      "[-7.40720441e-04  1.67472662e-05 -3.40027937e-04  1.59316213e-02\n",
      "  3.38865181e-03  1.99071772e-03]\n"
     ]
    }
   ],
   "source": [
    "original_eigen_vectors = np.dot(np.dot(inv_V, C), eigen_vectors[0])\n",
    "print(original_eigen_vectors)"
   ]
  },
  {
   "cell_type": "code",
   "execution_count": 245,
   "id": "77fed704",
   "metadata": {},
   "outputs": [
    {
     "data": {
      "text/plain": [
       "array([2.17444411, 2.6092435 , 1.94906011, 2.55457626, 2.20751624,\n",
       "       2.1470423 , 1.97775218, 2.11583432, 2.2367932 , 2.24627932,\n",
       "       1.9951233 , 2.10157996, 2.00490597, 2.08726656, 2.48651836,\n",
       "       2.26072853, 2.2804534 , 2.4002713 , 2.38678093, 2.1846795 ,\n",
       "       2.16564422, 2.22653195, 1.97853708, 2.2868672 , 2.40379044,\n",
       "       2.26459779, 2.09901403, 2.22695067, 2.02711742, 2.11410282,\n",
       "       2.91185479, 2.94797993, 2.86445715, 2.92845946, 2.7372174 ,\n",
       "       3.18027352, 3.05884851, 2.84802366, 3.07831585, 2.86920221,\n",
       "       3.17151852, 3.2594612 ])"
      ]
     },
     "execution_count": 245,
     "metadata": {},
     "output_type": "execute_result"
    }
   ],
   "source": [
    "projections = np.dot(X,original_eigen_vectors)\n",
    "projections"
   ]
  },
  {
   "cell_type": "markdown",
   "id": "916ec88a",
   "metadata": {},
   "source": [
    "## AFD in Python"
   ]
  },
  {
   "cell_type": "code",
   "execution_count": 246,
   "id": "eb031241",
   "metadata": {},
   "outputs": [
    {
     "data": {
      "text/html": [
       "<div>\n",
       "<style scoped>\n",
       "    .dataframe tbody tr th:only-of-type {\n",
       "        vertical-align: middle;\n",
       "    }\n",
       "\n",
       "    .dataframe tbody tr th {\n",
       "        vertical-align: top;\n",
       "    }\n",
       "\n",
       "    .dataframe thead th {\n",
       "        text-align: right;\n",
       "    }\n",
       "</style>\n",
       "<table border=\"1\" class=\"dataframe\">\n",
       "  <thead>\n",
       "    <tr style=\"text-align: right;\">\n",
       "      <th></th>\n",
       "      <th>LCB</th>\n",
       "      <th>LSM</th>\n",
       "      <th>LBM</th>\n",
       "      <th>LP</th>\n",
       "      <th>LM</th>\n",
       "      <th>LAM</th>\n",
       "    </tr>\n",
       "  </thead>\n",
       "  <tbody>\n",
       "    <tr>\n",
       "      <th>0</th>\n",
       "      <td>-758.333333</td>\n",
       "      <td>-425.47619</td>\n",
       "      <td>224.52381</td>\n",
       "      <td>-35.690476</td>\n",
       "      <td>-31.02381</td>\n",
       "      <td>-30.119048</td>\n",
       "    </tr>\n",
       "    <tr>\n",
       "      <th>1</th>\n",
       "      <td>-508.333333</td>\n",
       "      <td>-325.47619</td>\n",
       "      <td>34.52381</td>\n",
       "      <td>-10.690476</td>\n",
       "      <td>-1.02381</td>\n",
       "      <td>-3.119048</td>\n",
       "    </tr>\n",
       "    <tr>\n",
       "      <th>2</th>\n",
       "      <td>-468.333333</td>\n",
       "      <td>-355.47619</td>\n",
       "      <td>-15.47619</td>\n",
       "      <td>-43.690476</td>\n",
       "      <td>-18.02381</td>\n",
       "      <td>-35.119048</td>\n",
       "    </tr>\n",
       "    <tr>\n",
       "      <th>3</th>\n",
       "      <td>151.666667</td>\n",
       "      <td>44.52381</td>\n",
       "      <td>154.52381</td>\n",
       "      <td>14.309524</td>\n",
       "      <td>10.97619</td>\n",
       "      <td>11.880952</td>\n",
       "    </tr>\n",
       "    <tr>\n",
       "      <th>4</th>\n",
       "      <td>-148.333333</td>\n",
       "      <td>-135.47619</td>\n",
       "      <td>54.52381</td>\n",
       "      <td>-13.690476</td>\n",
       "      <td>-11.02381</td>\n",
       "      <td>-28.119048</td>\n",
       "    </tr>\n",
       "  </tbody>\n",
       "</table>\n",
       "</div>"
      ],
      "text/plain": [
       "        LCB        LSM          LBM       LP        LM          LAM\n",
       "0 -758.333333 -425.47619  224.52381 -35.690476 -31.02381 -30.119048\n",
       "1 -508.333333 -325.47619   34.52381 -10.690476  -1.02381  -3.119048\n",
       "2 -468.333333 -355.47619  -15.47619 -43.690476 -18.02381 -35.119048\n",
       "3  151.666667   44.52381  154.52381  14.309524  10.97619  11.880952\n",
       "4 -148.333333 -135.47619   54.52381 -13.690476 -11.02381 -28.119048"
      ]
     },
     "execution_count": 246,
     "metadata": {},
     "output_type": "execute_result"
    }
   ],
   "source": [
    "overall_mean = np.mean(X, axis=0)\n",
    "X_centered = X - overall_mean\n",
    "X_centered.head()"
   ]
  },
  {
   "cell_type": "code",
   "execution_count": 247,
   "id": "d6953dda",
   "metadata": {},
   "outputs": [
    {
     "data": {
      "text/plain": [
       "array([[ 1.52597631],\n",
       "       [-1.07136054],\n",
       "       [ 2.87234013],\n",
       "       [-0.74479792],\n",
       "       [ 1.32841519]])"
      ]
     },
     "execution_count": 247,
     "metadata": {},
     "output_type": "execute_result"
    }
   ],
   "source": [
    "lda = LinearDiscriminantAnalysis()\n",
    "\n",
    "# Fit the LDA model on the centered data\n",
    "lda.fit(X_centered, y)\n",
    "\n",
    "# Transform the centered data to the LDA space\n",
    "lda_transformed_data = lda.transform(X_centered)\n",
    "lda_transformed_data[:5]"
   ]
  },
  {
   "cell_type": "code",
   "execution_count": 248,
   "id": "6d718c51",
   "metadata": {},
   "outputs": [],
   "source": [
    "matrice_a_diagonaliser1 = np.dot(inv_V, S_B)\n",
    "\n",
    "W = X.cov()\n",
    "inv_W  = np.linalg.inv(W)\n",
    "matrice_a_diagonaliser2 = np.dot(inv_W, S_B)\n",
    "eigen_values_1, eigen_vectors_1 = np.linalg.eig(matrice_a_diagonaliser1)\n",
    "eigen_values_2, eigen_vectors_2 = np.linalg.eig(matrice_a_diagonaliser2)"
   ]
  },
  {
   "cell_type": "code",
   "execution_count": 249,
   "id": "4b70e81d",
   "metadata": {},
   "outputs": [
    {
     "name": "stdout",
     "output_type": "stream",
     "text": [
      "Eigen values of V(^-1)B: [ 8.23563478e-01+0.00000000e+00j -2.34046408e-17+6.01202877e-16j\n",
      " -2.34046408e-17-6.01202877e-16j -4.38757891e-16+0.00000000e+00j\n",
      "  2.58046762e-18+5.74806322e-17j  2.58046762e-18-5.74806322e-17j]\n",
      "Eigen values of W(^-1)B: [ 8.03954824e-01+0.00000000e+00j  1.73269635e-16+2.04517124e-16j\n",
      "  1.73269635e-16-2.04517124e-16j -7.73255862e-17+1.93772314e-16j\n",
      " -7.73255862e-17-1.93772314e-16j -3.29243923e-17+0.00000000e+00j]\n",
      "Difference absolue des valeurs propres: [1.96086542e-02 4.42764450e-16 4.42764450e-16 4.10098794e-16\n",
      " 2.63653220e-16 6.75619579e-17]\n"
     ]
    }
   ],
   "source": [
    "print(\"Eigen values of V(^-1)B:\", eigen_values_1)\n",
    "print(\"Eigen values of W(^-1)B:\", eigen_values_2)\n",
    "print(\"Difference absolue des valeurs propres:\", np.abs(eigen_values_1-eigen_values_2))"
   ]
  },
  {
   "cell_type": "markdown",
   "id": "8402e301",
   "metadata": {},
   "source": [
    "La valeur propre du premier axe est enormement plus grande que celles des autres axes.\n",
    "\n",
    "Le rapport entre eigen_value1/eigen_value2 = 10^15."
   ]
  },
  {
   "cell_type": "code",
   "execution_count": 250,
   "id": "d5569136",
   "metadata": {},
   "outputs": [
    {
     "name": "stdout",
     "output_type": "stream",
     "text": [
      "Eigen values of V(^-1)B: [[ 0.0450849 +0.j          0.00781619-0.07532431j  0.00781619+0.07532431j\n",
      "   0.04988933+0.j         -0.04200558+0.06226374j -0.04200558-0.06226374j]\n",
      " [-0.00101934+0.j          0.01321988+0.12675636j  0.01321988-0.12675636j\n",
      "  -0.2050133 +0.j         -0.05008994+0.05749268j -0.05008994-0.05749268j]\n",
      " [ 0.02069624+0.j          0.01442417+0.00504852j  0.01442417-0.00504852j\n",
      "  -0.0933039 +0.j         -0.04133852-0.24298427j -0.04133852+0.24298427j]\n",
      " [-0.96969862+0.j         -0.5539384 -0.0162025j  -0.5539384 +0.0162025j\n",
      "  -0.04202746+0.j         -0.13156999-0.0088017j  -0.13156999+0.0088017j ]\n",
      " [-0.20625465+0.j          0.79288175+0.j          0.79288175-0.j\n",
      "  -0.45497562+0.j          0.94234437+0.j          0.94234437-0.j        ]\n",
      " [-0.12116759+0.j          0.19837304-0.05163407j  0.19837304+0.05163407j\n",
      "   0.85907268+0.j         -0.00336128-0.14960542j -0.00336128+0.14960542j]]\n",
      "Eigen values of W(^-1)B: [[ 0.0450849 +0.j         -0.05856472-0.02118787j -0.05856472+0.02118787j\n",
      "  -0.07610012-0.06586065j -0.07610012+0.06586065j -0.00300475+0.j        ]\n",
      " [-0.00101934+0.j          0.11205393-0.03662954j  0.11205393+0.03662954j\n",
      "   0.20962857+0.3289563j   0.20962857-0.3289563j  -0.10227291+0.j        ]\n",
      " [ 0.02069624+0.j          0.03981737-0.02469666j  0.03981737+0.02469666j\n",
      "   0.13428488-0.111668j    0.13428488+0.111668j    0.27896374+0.j        ]\n",
      " [-0.96969862+0.j         -0.52065857+0.16166358j -0.52065857-0.16166358j\n",
      "  -0.01811623-0.56669329j -0.01811623+0.56669329j  0.17656701+0.j        ]\n",
      " [-0.20625465+0.j          0.82190677+0.j          0.82190677-0.j\n",
      "   0.22436891+0.3025931j   0.22436891-0.3025931j  -0.8903536 +0.j        ]\n",
      " [-0.12116759+0.j          0.08488599+0.00844192j  0.08488599-0.00844192j\n",
      "  -0.58637797+0.j         -0.58637797-0.j          0.29631911+0.j        ]]\n",
      "Difference absolue des valeurs propres: [[2.62984079e-15 8.56573266e-02 8.56573266e-02 1.42165278e-01\n",
      "  3.42837502e-02 7.34699786e-02]\n",
      " [4.28194806e-15 1.90953190e-01 1.90953190e-01 5.29282654e-01\n",
      "  4.65614132e-01 7.76432268e-02]\n",
      " [1.18308141e-15 3.91099799e-02 3.91099799e-02 2.53508170e-01\n",
      "  3.95754735e-01 4.02038425e-01]\n",
      " [1.22124533e-15 1.80952728e-01 1.80952728e-01 5.67197522e-01\n",
      "  5.86571591e-01 3.08262677e-01]\n",
      " [4.69069228e-15 2.90250237e-02 2.90250237e-02 7.43687815e-01\n",
      "  7.79134995e-01 1.83269797e+00]\n",
      " [2.04003481e-15 1.28407301e-01 1.28407301e-01 1.44545065e+00\n",
      "  6.01905509e-01 3.34947935e-01]]\n"
     ]
    }
   ],
   "source": [
    "print(\"Eigen values of V(^-1)B:\", eigen_vectors_1)\n",
    "print(\"Eigen values of W(^-1)B:\", eigen_vectors_2)\n",
    "print(\"Difference absolue des valeurs propres:\", np.abs(eigen_vectors_1-eigen_vectors_2))"
   ]
  },
  {
   "cell_type": "code",
   "execution_count": 251,
   "id": "b8804787",
   "metadata": {},
   "outputs": [
    {
     "name": "stdout",
     "output_type": "stream",
     "text": [
      "[1.00000000e+00 7.30554825e-16 7.30554825e-16 5.32755401e-16\n",
      " 6.98653192e-17 6.98653192e-17]\n",
      "[1.00000000e+00 3.33411514e-16 3.33411514e-16 2.59506060e-16\n",
      " 2.59506060e-16 4.09530379e-17]\n"
     ]
    }
   ],
   "source": [
    "SCT1 = np.sum(eigen_values_1)\n",
    "discriminant_powers1 = eigen_values_1 / SCT1\n",
    "print(np.abs(discriminant_powers1))\n",
    "\n",
    "SCT2 = np.sum(eigen_values_2)\n",
    "discriminant_powers2 = eigen_values_2 / SCT2\n",
    "print(np.abs(discriminant_powers2))"
   ]
  },
  {
   "cell_type": "markdown",
   "id": "852eb809",
   "metadata": {},
   "source": [
    "We choose the first axis only."
   ]
  },
  {
   "cell_type": "code",
   "execution_count": 252,
   "id": "e026702a",
   "metadata": {},
   "outputs": [
    {
     "data": {
      "text/plain": [
       "array([[-0.02065149,  0.00046692, -0.00948007,  0.44417797,  0.09447654,\n",
       "         0.05550176]])"
      ]
     },
     "execution_count": 252,
     "metadata": {},
     "output_type": "execute_result"
    }
   ],
   "source": [
    "coefficients = lda.coef_\n",
    "coefficients"
   ]
  },
  {
   "cell_type": "code",
   "execution_count": 253,
   "id": "48da16e7",
   "metadata": {},
   "outputs": [
    {
     "name": "stdout",
     "output_type": "stream",
     "text": [
      "Linear Combination for the First Discriminant Axis:\n",
      "Z_1 = -0.020651488843744077 * X_1 + 0.000466918371122392 * X_2 + ... + 0.05550175543360995 * X_p\n"
     ]
    }
   ],
   "source": [
    "coefficients = coefficients.reshape(-1, 1)\n",
    "\n",
    "# Calculate the score on the first discriminant axis\n",
    "lda_scores = np.dot(X, coefficients)\n",
    "\n",
    "print(\"Linear Combination for the First Discriminant Axis:\")\n",
    "print(f\"Z_1 = {coefficients[0][0]} * X_1 + {coefficients[1][0]} * X_2 + ... + {coefficients[-1][0]} * X_p\")"
   ]
  },
  {
   "cell_type": "markdown",
   "id": "ac07d719",
   "metadata": {},
   "source": [
    "On a 2 classes: chien et loup, donc on aura un seul axes pour la projection, donc la qualite de projection sera 1."
   ]
  },
  {
   "cell_type": "markdown",
   "id": "53a0abaa",
   "metadata": {},
   "source": [
    "### Contribution absolue of class chien"
   ]
  },
  {
   "cell_type": "code",
   "execution_count": 254,
   "id": "3a5dec19",
   "metadata": {},
   "outputs": [
    {
     "data": {
      "text/plain": [
       "array([0.0069318 , 1.35719253, 1.35719253, 0.49690253, 1.52103655,\n",
       "       1.52103655])"
      ]
     },
     "execution_count": 254,
     "metadata": {},
     "output_type": "execute_result"
    }
   ],
   "source": [
    "group_data = X[y == 0]\n",
    "\n",
    "gk = np.mean(group_data, axis=0)\n",
    "contribution_chien = (len(group_data)/len(y)) * np.square(np.dot(np.dot(eigen_vectors_1.T, inv_V), gk))\n",
    "np.abs(contribution_chien)"
   ]
  },
  {
   "cell_type": "markdown",
   "id": "d1df1a6a",
   "metadata": {},
   "source": [
    "### Contributions absolue of class loup"
   ]
  },
  {
   "cell_type": "code",
   "execution_count": 255,
   "id": "2a951142",
   "metadata": {},
   "outputs": [
    {
     "data": {
      "text/plain": [
       "array([5.32547468e-05, 5.19700261e-01, 5.19700261e-01, 2.00017996e-01,\n",
       "       6.13302830e-01, 6.13302830e-01])"
      ]
     },
     "execution_count": 255,
     "metadata": {},
     "output_type": "execute_result"
    }
   ],
   "source": [
    "group_data = X[y == 1]\n",
    "\n",
    "gk = np.mean(group_data, axis=0)\n",
    "contribution_loup = (len(group_data)/len(y)) * np.square(np.dot(np.dot(eigen_vectors_1.T, inv_V), gk))\n",
    "np.abs(contribution_loup)"
   ]
  },
  {
   "cell_type": "markdown",
   "id": "d723e230",
   "metadata": {},
   "source": [
    "### Contribution relative of class chien"
   ]
  },
  {
   "cell_type": "code",
   "execution_count": 256,
   "id": "b8eb9eb1",
   "metadata": {},
   "outputs": [
    {
     "data": {
      "text/plain": [
       "array([8.41684287e-03, 2.25575312e+15, 2.25575312e+15, 1.13252101e+15,\n",
       "       2.64350978e+16, 2.64350978e+16])"
      ]
     },
     "execution_count": 256,
     "metadata": {},
     "output_type": "execute_result"
    }
   ],
   "source": [
    "group_data = X[y == 0]\n",
    "\n",
    "gk = np.mean(group_data, axis=0)\n",
    "contribution_chien = (len(group_data)/len(y)) * np.square(np.dot(np.dot(eigen_vectors_1.T, inv_V), gk))\n",
    "contribution_relative_chien = contribution_chien/eigen_values_1\n",
    "np.abs(contribution_relative_chien)"
   ]
  },
  {
   "cell_type": "markdown",
   "id": "f63c0fcf",
   "metadata": {},
   "source": [
    "### Contribution relative of class loup"
   ]
  },
  {
   "cell_type": "code",
   "execution_count": 257,
   "id": "81e243a3",
   "metadata": {},
   "outputs": [
    {
     "data": {
      "text/plain": [
       "array([3.36673715e-03, 9.02301249e+14, 9.02301249e+14, 4.53008405e+14,\n",
       "       1.05740391e+16, 1.05740391e+16])"
      ]
     },
     "execution_count": 257,
     "metadata": {},
     "output_type": "execute_result"
    }
   ],
   "source": [
    "group_data = X[y == 1]\n",
    "\n",
    "contribution_loup = (len(group_data)/len(y)) * np.square(np.dot(np.dot(eigen_vectors_1.T, inv_V), gk))\n",
    "contribution_relative_loup = contribution_loup/eigen_values_1\n",
    "np.abs(contribution_relative_loup)"
   ]
  },
  {
   "cell_type": "markdown",
   "id": "f698e4d0",
   "metadata": {},
   "source": [
    "## 9) Avec reduction"
   ]
  },
  {
   "cell_type": "markdown",
   "id": "518a5078",
   "metadata": {},
   "source": [
    "We are gonna standardize each class apart, because chien class is dominant (cz the data is imbalanced), in order to prevent the dominant class from having a disproportionate influence."
   ]
  },
  {
   "cell_type": "code",
   "execution_count": 260,
   "id": "5b17ef1a",
   "metadata": {},
   "outputs": [],
   "source": [
    "X_chien_to_reduce = X_chien.drop(['SPE'], axis=1)\n",
    "X_loup_to_reduce = X_loup.drop(['SPE'], axis=1)\n",
    "\n",
    "standardized_data_part1 = (X_chien_to_reduce - X_chien_to_reduce.mean(axis=0)) / X_chien_to_reduce.std(axis=0)\n",
    "standardized_data_part2 = (X_loup_to_reduce - X_loup_to_reduce.mean(axis=0)) / X_loup_to_reduce.std(axis=0)\n",
    "\n",
    "X_standardized = np.vstack([standardized_data_part1, standardized_data_part2])\n",
    "\n",
    "lda = LinearDiscriminantAnalysis()\n",
    "\n",
    "# Fit the LDA model on the centered data\n",
    "lda.fit(X_standardized, y)  \n",
    "\n",
    "cov_matrix = np.cov(X_standardized, rowvar=False)\n"
   ]
  },
  {
   "cell_type": "code",
   "execution_count": 261,
   "id": "59d93dc7",
   "metadata": {},
   "outputs": [],
   "source": [
    "num_samples_part1 = len(X_chien)\n",
    "num_samples_part2 = len(X_loup)\n",
    "total_num_samples = num_samples_part1 + num_samples_part2\n",
    "\n",
    "weight_part1 = num_samples_part1 / total_num_samples\n",
    "weight_part2 = num_samples_part2 / total_num_samples\n",
    "\n",
    "inter_class_cov_matrix = (weight_part1 * np.cov(standardized_data_part1, rowvar=False) +\n",
    "                          weight_part2 * np.cov(standardized_data_part2, rowvar=False))"
   ]
  },
  {
   "cell_type": "code",
   "execution_count": 262,
   "id": "82068ed3",
   "metadata": {},
   "outputs": [
    {
     "data": {
      "text/plain": [
       "array([[ 3.12804159e-14, -3.05544029e-14, -3.94279472e-15,\n",
       "         3.76539665e-15,  1.14934611e-15, -5.06131214e-15]])"
      ]
     },
     "execution_count": 262,
     "metadata": {},
     "output_type": "execute_result"
    }
   ],
   "source": [
    "coefficients = lda.coef_\n",
    "coefficients"
   ]
  },
  {
   "cell_type": "markdown",
   "id": "be9d486a",
   "metadata": {},
   "source": [
    "The coef are now much smaller"
   ]
  },
  {
   "cell_type": "code",
   "execution_count": 263,
   "id": "2eb610cd",
   "metadata": {},
   "outputs": [],
   "source": [
    "classes = np.unique(y)\n",
    "n_classes = len(classes)\n",
    "    \n",
    "# Calculate the overall mean\n",
    "overall_mean = np.mean(X_standardized, axis=0)\n",
    "    \n",
    "# Initialize the interclass variance matrix\n",
    "S_B = np.zeros((X_standardized.shape[1], X_standardized.shape[1]))\n",
    "Gk_g = np.zeros((X_standardized.shape[1], 1))\n",
    "\n",
    "for i in classes:\n",
    "    # Select data points belonging to class i\n",
    "    X_class_i = X_standardized[y == i]\n",
    "    n_class_i = len(X_class_i)\n",
    "        \n",
    "    # Calculate the mean of class i\n",
    "    mean_class_i = np.mean(X_class_i, axis=0)\n",
    "    Gk_g[:, 0] = mean_class_i - overall_mean\n",
    "    S_B += n_class_i * np.dot(Gk_g, Gk_g.T)\n",
    "\n",
    "# Normalize by the total number of observations\n",
    "S_B /= len(y)   \n",
    "\n",
    "inv_cov_matrix = np.linalg.inv(cov_matrix)\n",
    "eigenvalues, eigenvectors = np.linalg.eig(np.dot(inv_cov_matrix, S_B))"
   ]
  },
  {
   "cell_type": "code",
   "execution_count": 264,
   "id": "a4b60fdc",
   "metadata": {},
   "outputs": [],
   "source": [
    "# Initialize an empty array to store the correlation coefficients\n",
    "correlation_coefficients = np.zeros((len(eigenvectors), X_standardized.shape[1]))\n",
    "\n",
    "# Calculate the correlation coefficients for each variable with each discriminant axis\n",
    "correlation_coefficients = eigenvectors*np.sqrt(eigenvalues)"
   ]
  },
  {
   "cell_type": "code",
   "execution_count": 265,
   "id": "c6700c4d",
   "metadata": {},
   "outputs": [
    {
     "name": "stderr",
     "output_type": "stream",
     "text": [
      "posx and posy should be finite values\n"
     ]
    },
    {
     "name": "stderr",
     "output_type": "stream",
     "text": [
      "posx and posy should be finite values\n",
      "posx and posy should be finite values\n",
      "posx and posy should be finite values\n",
      "posx and posy should be finite values\n",
      "posx and posy should be finite values\n"
     ]
    },
    {
     "data": {
      "image/png": "[encoded data removed]",
      "text/plain": [
       "<Figure size 800x800 with 1 Axes>"
      ]
     },
     "metadata": {},
     "output_type": "display_data"
    }
   ],
   "source": [
    "angles = np.linspace(0, 2 * np.pi, 100)\n",
    "fig, ax = plt.subplots(figsize=(8, 8))\n",
    "ax.plot(np.cos(angles), np.sin(angles), linestyle='dashed', color='gray')\n",
    "for j in range(X_standardized.shape[1]):\n",
    "    ax.arrow(0, 0, correlation_coefficients[0, j], correlation_coefficients[1, j], head_width=0.05, head_length=0.1, fc='r', ec='r')\n",
    "    ax.text(correlation_coefficients[0, j] + 0.1, correlation_coefficients[1, j], f'Z{j+1}', color='r')\n",
    "ax.set_aspect('equal', adjustable='box')"
   ]
  }
 ],
 "metadata": {
  "kernelspec": {
   "display_name": "Python 3 (ipykernel)",
   "language": "python",
   "name": "python3"
  },
  "language_info": {
   "codemirror_mode": {
    "name": "ipython",
    "version": 3
   },
   "file_extension": ".py",
   "mimetype": "text/x-python",
   "name": "python",
   "nbconvert_exporter": "python",
   "pygments_lexer": "ipython3",
   "version": "3.11.5"
  }
 },
 "nbformat": 4,
 "nbformat_minor": 5
}
